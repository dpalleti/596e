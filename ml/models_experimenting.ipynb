{
 "cells": [
  {
   "cell_type": "markdown",
   "id": "77d0b116",
   "metadata": {},
   "source": [
    "# Trying models from various libraries"
   ]
  },
  {
   "cell_type": "markdown",
   "id": "42880aa2",
   "metadata": {},
   "source": [
    "## NER and text summarization using SpaCy"
   ]
  },
  {
   "cell_type": "code",
   "execution_count": 4,
   "id": "3203cc42",
   "metadata": {},
   "outputs": [],
   "source": [
    "#load SpaCy\n",
    "import spacy "
   ]
  },
  {
   "cell_type": "code",
   "execution_count": 5,
   "id": "94ce59d6",
   "metadata": {},
   "outputs": [],
   "source": [
    "#small model\n",
    "nlp = spacy.load(\"en_core_web_sm\")"
   ]
  },
  {
   "cell_type": "code",
   "execution_count": 6,
   "id": "a7a06ae1",
   "metadata": {},
   "outputs": [],
   "source": [
    "#Sample text from newsgroup document \n",
    "text = \"\"\"In article <1p7ciqINN3th@tamsun.tamu.edu> covingc@ee.tamu.edu (Just George) writes:\n",
    ">I will be traveling to Bangaldesh this summer, and am wondering\n",
    ">if there are any immunizations I should get before going.\n",
    "You can probably get this information by calling your public health\n",
    "department in your county (in Pittsburgh, they give the shots free,\n",
    "as well).  There are bulletins in medical libraries that give\n",
    "recommendations, or you could call the infectious diseases section\n",
    "of the medicine department of your local medical school.  You also\n",
    "will probably want to talk about Malaria prophylaxis.  You will\n",
    "need your doctor to get the prescription. Meet me at home or the school. \n",
    "Gordon Banks  N3JXP      | \"Skepticism is the chastity of the intellect, and\n",
    "geb@cadre.dsl.pitt.edu   |  it is shameful to surrender it too soon.\" \"\"\"\n",
    "\n",
    "doc = nlp(text)"
   ]
  },
  {
   "cell_type": "code",
   "execution_count": 7,
   "id": "916c0b89",
   "metadata": {},
   "outputs": [
    {
     "name": "stdout",
     "output_type": "stream",
     "text": [
      "Bangaldesh GPE\n",
      "this summer DATE\n",
      "Pittsburgh GPE\n",
      "Malaria GPE\n",
      "Gordon Banks PERSON\n",
      "N3JXP       PRODUCT\n"
     ]
    }
   ],
   "source": [
    "#Find named entities, phrases, and concepts\n",
    "for entity in doc.ents:\n",
    "    print(entity.text, entity.label_)"
   ]
  },
  {
   "cell_type": "code",
   "execution_count": null,
   "id": "d02722c0",
   "metadata": {},
   "outputs": [],
   "source": [
    "#Summarize the text using extractive summarization"
   ]
  },
  {
   "cell_type": "code",
   "execution_count": 8,
   "id": "c895f620",
   "metadata": {},
   "outputs": [],
   "source": [
    "from spacy.lang.en.stop_words import STOP_WORDS\n",
    "from string import punctuation\n",
    "from heapq import nlargest"
   ]
  },
  {
   "cell_type": "code",
   "execution_count": 14,
   "id": "032daaf9",
   "metadata": {},
   "outputs": [],
   "source": [
    "#Can set to different percentage \n",
    "percentage = 0.2"
   ]
  },
  {
   "cell_type": "code",
   "execution_count": 15,
   "id": "d689c686",
   "metadata": {},
   "outputs": [],
   "source": [
    "## The score of each word is kept in a frequency table\n",
    "tokens=[token.text for token in doc]\n",
    "freq_of_word=dict()"
   ]
  },
  {
   "cell_type": "code",
   "execution_count": 16,
   "id": "44170b99",
   "metadata": {},
   "outputs": [],
   "source": [
    "# Text cleaning and vectorization \n",
    "for word in doc:\n",
    "    if word.text.lower() not in list(STOP_WORDS):\n",
    "        if word.text.lower() not in punctuation:\n",
    "            if word.text not in freq_of_word.keys():\n",
    "                freq_of_word[word.text] = 1\n",
    "            else:\n",
    "                freq_of_word[word.text] += 1"
   ]
  },
  {
   "cell_type": "code",
   "execution_count": 17,
   "id": "5d761577",
   "metadata": {},
   "outputs": [],
   "source": [
    "# Maximum frequency of word\n",
    "max_freq=max(freq_of_word.values())"
   ]
  },
  {
   "cell_type": "code",
   "execution_count": 18,
   "id": "5e33b86c",
   "metadata": {},
   "outputs": [],
   "source": [
    "# Normalization of word frequency\n",
    "for word in freq_of_word.keys():\n",
    "    freq_of_word[word]=freq_of_word[word]/max_freq"
   ]
  },
  {
   "cell_type": "code",
   "execution_count": 19,
   "id": "1f1bdd1b",
   "metadata": {},
   "outputs": [],
   "source": [
    "# In this part, each sentence is weighed based on how often it contains the token.\n",
    "sent_tokens= [sent for sent in doc.sents]\n",
    "sent_scores = dict()\n",
    "for sent in sent_tokens:\n",
    "    for word in sent:\n",
    "        if word.text.lower() in freq_of_word.keys():\n",
    "            if sent not in sent_scores.keys():                            \n",
    "                sent_scores[sent]=freq_of_word[word.text.lower()]\n",
    "            else:\n",
    "                sent_scores[sent]+=freq_of_word[word.text.lower()]\n",
    "\n",
    "len_tokens=int(len(sent_tokens)*percentage)"
   ]
  },
  {
   "cell_type": "code",
   "execution_count": 20,
   "id": "3fd10ed4",
   "metadata": {},
   "outputs": [],
   "source": [
    "# Summary for the sentences with maximum score. Here, each sentence in the list is of spacy.span type\n",
    "summary = nlargest(n = len_tokens, iterable = sent_scores,key=sent_scores.get)"
   ]
  },
  {
   "cell_type": "code",
   "execution_count": 21,
   "id": "9482e3f3",
   "metadata": {},
   "outputs": [],
   "source": [
    "# Prepare for final summary\n",
    "final_summary=[word.text for word in summary]"
   ]
  },
  {
   "cell_type": "code",
   "execution_count": 22,
   "id": "ad652817",
   "metadata": {},
   "outputs": [],
   "source": [
    "#convert to a string\n",
    "summary=\" \".join(final_summary)"
   ]
  },
  {
   "cell_type": "code",
   "execution_count": 23,
   "id": "b3cb780e",
   "metadata": {},
   "outputs": [
    {
     "name": "stdout",
     "output_type": "stream",
     "text": [
      "There are bulletins in medical libraries that give\n",
      "recommendations, or you could call the infectious diseases section\n",
      "of the medicine department of your local medical school.  \n"
     ]
    }
   ],
   "source": [
    "# Return final summary\n",
    "print(summary)"
   ]
  },
  {
   "cell_type": "code",
   "execution_count": null,
   "id": "a8d4c5a3",
   "metadata": {},
   "outputs": [],
   "source": []
  }
 ],
 "metadata": {
  "kernelspec": {
   "display_name": "Python 3 (ipykernel)",
   "language": "python",
   "name": "python3"
  },
  "language_info": {
   "codemirror_mode": {
    "name": "ipython",
    "version": 3
   },
   "file_extension": ".py",
   "mimetype": "text/x-python",
   "name": "python",
   "nbconvert_exporter": "python",
   "pygments_lexer": "ipython3",
   "version": "3.11.4"
  }
 },
 "nbformat": 4,
 "nbformat_minor": 5
}
